{
 "cells": [
  {
   "cell_type": "code",
   "execution_count": 2,
   "id": "2e7ff45d-6e83-4d9e-97ff-a74be50dfb59",
   "metadata": {},
   "outputs": [
    {
     "name": "stdout",
     "output_type": "stream",
     "text": [
      "Clusters: [1 0 1 0 0 0 1 0]\n",
      "Cluster Centers: [[7.         5.4        3.8       ]\n",
      " [0.66666667 1.         1.33333333]]\n"
     ]
    }
   ],
   "source": [
    "import numpy as np\n",
    "from sklearn.cluster import KMeans  # Import KMeans\n",
    "\n",
    "# Sample dataset (X, Y, Z coordinates)\n",
    "data = np.array([\n",
    "    [1, 2, 3],\n",
    "    [5, 4, 2],\n",
    "    [1, 0, 1],\n",
    "    [6, 8, 7],\n",
    "    [9, 7, 3],\n",
    "    [8, 2, 2],\n",
    "    [0, 1, 0],\n",
    "    [7, 6, 5]\n",
    "])\n",
    "\n",
    "# Apply K-Means with K=2\n",
    "kmeans_2 = KMeans(n_clusters=2)\n",
    "kmeans_2.fit(data)\n",
    "\n",
    "# Predict clusters\n",
    "clusters = kmeans_2.predict(data)\n",
    "\n",
    "# Print clusters and centroids\n",
    "print(\"Clusters:\", clusters)\n",
    "print(\"Cluster Centers:\", kmeans_2.cluster_centers_)\n"
   ]
  },
  {
   "cell_type": "code",
   "execution_count": null,
   "id": "9af62207-55e9-455b-bc18-4d82f68450c6",
   "metadata": {},
   "outputs": [],
   "source": []
  }
 ],
 "metadata": {
  "kernelspec": {
   "display_name": "Python 3 (ipykernel)",
   "language": "python",
   "name": "python3"
  },
  "language_info": {
   "codemirror_mode": {
    "name": "ipython",
    "version": 3
   },
   "file_extension": ".py",
   "mimetype": "text/x-python",
   "name": "python",
   "nbconvert_exporter": "python",
   "pygments_lexer": "ipython3",
   "version": "3.13.0"
  }
 },
 "nbformat": 4,
 "nbformat_minor": 5
}
